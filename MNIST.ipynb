{
  "nbformat": 4,
  "nbformat_minor": 0,
  "metadata": {
    "colab": {
      "name": "MNIST.ipynb",
      "provenance": [],
      "collapsed_sections": []
    },
    "kernelspec": {
      "name": "python3",
      "display_name": "Python 3"
    },
    "language_info": {
      "name": "python"
    },
    "accelerator": "TPU"
  },
  "cells": [
    {
      "cell_type": "markdown",
      "metadata": {
        "id": "KpfLeyPOnpRW"
      },
      "source": [
        "Hello and welcome to the FashionMNIST program! In this session, we will be going through the basics of Machine Learning, how it interpets data and makes predictions, and how the Machine Learning program is created!"
      ]
    },
    {
      "cell_type": "code",
      "metadata": {
        "id": "_S8bU9OvQutn"
      },
      "source": [
        "##Section 1 - What we need to build the model\n",
        "##Libraries Cell\n",
        "import tensorflow as tf \n",
        "# Helper libraries\n",
        "import numpy as np\n",
        "import matplotlib.pyplot as plt\n",
        "np.set_printoptions(suppress=True)"
      ],
      "execution_count": null,
      "outputs": []
    },
    {
      "cell_type": "code",
      "metadata": {
        "colab": {
          "base_uri": "https://localhost:8080/"
        },
        "id": "3eKhxgIvQ0_8",
        "outputId": "4687e2ae-6ed3-49d7-a2c7-83671c7511dc"
      },
      "source": [
        "##Data Loading Cell\n",
        " \n",
        "mnist = tf.keras.datasets.mnist #@param [\"tf.keras.datasets.fashion_mnist\", \"tf.keras.datasets.mnist\", \"datasets.mnist\", \"mnist_dataset\"] {type:\"raw\"}\n",
        " \n",
        "class_names = ['0', '1', '2', '3', '4', '5', '6', '7', '8', '9'] #@param {type:\"raw\"}\n",
        "(train_images, train_labels), (test_images, test_labels) = mnist.load_data()\n",
        "print(\"Data has been loaded!\")"
      ],
      "execution_count": null,
      "outputs": [
        {
          "output_type": "stream",
          "text": [
            "Data has been loaded!\n"
          ],
          "name": "stdout"
        }
      ]
    },
    {
      "cell_type": "code",
      "metadata": {
        "colab": {
          "base_uri": "https://localhost:8080/",
          "height": 283
        },
        "id": "FWQ-VmzwWnhZ",
        "outputId": "1afce93a-fa53-4ddb-d6ac-3a866504817a"
      },
      "source": [
        "##Data Display Cell\n",
        "\n",
        "display =  50000#@param {type:\"integer\"}\n",
        "colour = \"plasma\" #@param [\"Accent\", \"Accent_r\", \"Blues\", \"Blues_r\", \"BrBG\", \"BrBG_r\", \"BuGn\", \"BuGn_r\", \"BuPu\", \"BuPu_r\", \"CMRmap\", \"CMRmap_r\", \"Dark2\", \"Dark2_r\", \"GnBu\", \"GnBu_r\", \"Greens\", \"Greens_r\", \"Greys\", \"Greys_r\", \"OrRd\", \"OrRd_r\", \"Oranges\", \"Oranges_r\", \"PRGn\", \"PRGn_r\", \"Paired\", \"Paired_r\", \"Pastel1\", \"Pastel1_r\", \"Pastel2\", \"Pastel2_r\", \"PiYG\", \"PiYG_r\", \"PuBu\", \"PuBuGn\", \"PuBuGn_r\", \"PuBu_r\", \"PuOr\", \"PuOr_r\", \"PuRd\", \"PuRd_r\", \"Purples\", \"Purples_r\", \"RdBu\", \"RdBu_r\", \"RdGy\", \"RdGy_r\", \"RdPu\", \"RdPu_r\", \"RdYlBu\", \"RdYlBu_r\", \"RdYlGn\", \"RdYlGn_r\", \"Reds\", \"Reds_r\", \"Set1\", \"Set1_r\", \"Set2\", \"Set2_r\", \"Set3\", \"Set3_r\", \"Spectral\", \"Spectral_r\", \"Wistia\", \"Wistia_r\", \"YlGn\", \"YlGnBu\", \"YlGnBu_r\", \"YlGn_r\", \"YlOrBr\", \"YlOrBr_r\", \"YlOrRd\", \"YlOrRd_r\", \"afmhot\", \"afmhot_r\", \"autumn\", \"autumn_r\", \"binary\", \"binary_r\", \"bone\", \"bone_r\", \"brg\", \"brg_r\", \"bwr\", \"bwr_r\", \"cividis\", \"cividis_r\", \"cool\", \"cool_r\", \"coolwarm\", \"coolwarm_r\", \"copper\", \"copper_r\", \"cubehelix\", \"cubehelix_r\", \"flag\", \"flag_r\", \"gist_earth\", \"gist_earth_r\", \"gist_gray\", \"gist_gray_r\", \"gist_heat\", \"gist_heat_r\", \"gist_ncar\", \"gist_ncar_r\", \"gist_rainbow\", \"gist_rainbow_r\", \"gist_stern\", \"gist_stern_r\", \"gist_yarg\", \"gist_yarg_r\", \"gnuplot\", \"gnuplot2\", \"gnuplot2_r\", \"gnuplot_r\", \"gray\", \"gray_r\", \"hot\", \"hot_r\", \"hsv\", \"hsv_r\", \"icefire\", \"icefire_r\", \"inferno\", \"inferno_r\", \"jet_r\", \"magma\", \"magma_r\", \"nipy_spectral\", \"nipy_spectral_r\", \"ocean\", \"ocean_r\", \"pink\", \"pink_r\", \"plasma\", \"plasma_r\", \"prism\", \"prism_r\", \"rainbow\", \"rainbow_r\", \"rocket\", \"rocket_r\", \"seismic\", \"seismic_r\", \"spring\", \"spring_r\", \"summer\", \"summer_r\", \"tab10\", \"tab10_r\", \"tab20\", \"tab20_r\", \"tab20b\", \"tab20b_r\", \"tab20c\", \"tab20c_r\", \"terrain\", \"terrain_r\", \"twilight\", \"twilight_r\", \"twilight_shifted\", \"twilight_shifted_r\", \"viridis\", \"viridis_r\", \"vlag\", \"vlag_r\", \"winter\", \"winter_r\"]\n",
        "\n",
        "plt.imshow(train_images[display], cmap=colour)\n",
        "plt.colorbar()\n",
        "print(class_names[train_labels[display]])"
      ],
      "execution_count": null,
      "outputs": [
        {
          "output_type": "stream",
          "text": [
            "3\n"
          ],
          "name": "stdout"
        },
        {
          "output_type": "display_data",
          "data": {
            "image/png": "[encoded data removed]",
            "text/plain": [
              "<Figure size 432x288 with 2 Axes>"
            ]
          },
          "metadata": {
            "tags": [],
            "needs_background": "light"
          }
        }
      ]
    },
    {
      "cell_type": "code",
      "metadata": {
        "colab": {
          "base_uri": "https://localhost:8080/",
          "height": 283
        },
        "id": "48JijXlJQ76Q",
        "outputId": "3a5e3b6e-a0db-4de0-dfc0-406ee247793b"
      },
      "source": [
        "##Data Manipulation Cell\n",
        "\n",
        "divider = 255 #@param [\"240\", \"128\", \"255\", \"60000\"] {type:\"raw\"}\n",
        "\n",
        "train_images = train_images / divider\n",
        "test_images = test_images / divider\n",
        "\n",
        "plt.imshow(train_images[display], cmap=colour)\n",
        "plt.colorbar()\n",
        "print(class_names[train_labels[display]])"
      ],
      "execution_count": null,
      "outputs": [
        {
          "output_type": "stream",
          "text": [
            "3\n"
          ],
          "name": "stdout"
        },
        {
          "output_type": "display_data",
          "data": {
            "image/png": "[encoded data removed]",
            "text/plain": [
              "<Figure size 432x288 with 2 Axes>"
            ]
          },
          "metadata": {
            "tags": [],
            "needs_background": "light"
          }
        }
      ]
    },
    {
      "cell_type": "code",
      "metadata": {
        "colab": {
          "base_uri": "https://localhost:8080/"
        },
        "id": "MY5WGiUxQ-7f",
        "outputId": "4dcf0936-c2a9-443d-ae0c-4682878c0d48"
      },
      "source": [
        "##Section 2 - Creating the model\n",
        "\n",
        "shape_x = 28 #@param [\"10000\", \"60000\", \"24\", \"28\"] {type:\"raw\"}\n",
        "shape_y = 28 #@param [\"60000\", \"24\", \"28\", \"10000\"] {type:\"raw\"}\n",
        "Activation_1 = \"relu\" #@param [\"relu\", \"ReLu\", \"ADAM\", \"SoftMax\"]\n",
        "Activation_2 = tf.nn.softmax #@param [\"tf.nn.relu\", \"nn.tf.softmax\", \"tf.nn.softmax\", \"tf.nn.adam\"] {type:\"raw\"}\n",
        "\n",
        "model = tf.keras.Sequential([\n",
        "    tf.keras.layers.Flatten(input_shape=(shape_x, shape_y)),\n",
        "    tf.keras.layers.Dense(128, activation=Activation_1),\n",
        "    tf.keras.layers.Dense(10, activation=Activation_2)])\n",
        "\n",
        "print(\"Model Formed!\")"
      ],
      "execution_count": null,
      "outputs": [
        {
          "output_type": "stream",
          "text": [
            "Model Formed!\n"
          ],
          "name": "stdout"
        }
      ]
    },
    {
      "cell_type": "code",
      "metadata": {
        "colab": {
          "base_uri": "https://localhost:8080/"
        },
        "id": "p1PZNjHpREJt",
        "outputId": "8ec4c457-797c-4dd3-fe64-db7a818bb637"
      },
      "source": [
        "##Section 3 - Preparing to Train your model\n",
        "\n",
        "Optimizer = \"adam\" #@param [\"softmax\", \"relu\", \"adam\", \"optimize\"]\n",
        "Loss = \"sparse_categorical_crossentropy\" #@param [\"mnist\", \"categorical_sparse_crossentropy\", \"categorical_crossentropy\", \"sparse_categorical_crossentropy\"]\n",
        "Metrics = \"accuracy\" #@param [\"loss\", \"accuracy\", \"speed\", \"efficiency\"]\n",
        "\n",
        "model.compile(optimizer=Optimizer,\n",
        "              loss=Loss,\n",
        "              metrics=[Metrics])\n",
        "print(\"Model Compiled!\")"
      ],
      "execution_count": null,
      "outputs": [
        {
          "output_type": "stream",
          "text": [
            "Model Compiled!\n"
          ],
          "name": "stdout"
        }
      ]
    },
    {
      "cell_type": "code",
      "metadata": {
        "colab": {
          "base_uri": "https://localhost:8080/"
        },
        "id": "uHwoyjx_L_qL",
        "outputId": "419edc64-ff75-4bbd-965f-dfeea3c0c84c"
      },
      "source": [
        "##Section 4 - Training your model\n",
        "\n",
        "Epochs =  4#@param {type:\"integer\"}\n",
        "\n",
        "history = model.fit(train_images, train_labels, epochs=Epochs)\n",
        "\n",
        "print(\"Model has been fitted to training images!\")"
      ],
      "execution_count": null,
      "outputs": [
        {
          "output_type": "stream",
          "text": [
            "Epoch 1/4\n",
            "1875/1875 [==============================] - 5s 2ms/step - loss: 0.2623 - accuracy: 0.9237\n",
            "Epoch 2/4\n",
            "1875/1875 [==============================] - 4s 2ms/step - loss: 0.1168 - accuracy: 0.9657\n",
            "Epoch 3/4\n",
            "1875/1875 [==============================] - 4s 2ms/step - loss: 0.0807 - accuracy: 0.9757\n",
            "Epoch 4/4\n",
            "1875/1875 [==============================] - 4s 2ms/step - loss: 0.0587 - accuracy: 0.9817\n",
            "Model has been fitted to training images!\n"
          ],
          "name": "stdout"
        }
      ]
    },
    {
      "cell_type": "code",
      "metadata": {
        "colab": {
          "base_uri": "https://localhost:8080/",
          "height": 573
        },
        "id": "ABSoh-rIDu6O",
        "outputId": "a8336704-191f-470e-864e-3365976e8a57"
      },
      "source": [
        "#@title Graph of Accuracy & Loss { vertical-output: true, display-mode: \"form\" }\n",
        "plt.plot(history.history['accuracy'], label='train')\n",
        "plt.title('Model Accuracy')\n",
        "plt.ylabel('Accuracy')\n",
        "plt.xlabel('Epoch') \n",
        "plt.legend()\n",
        "plt.show()\n",
        "\n",
        "plt.plot(history.history['loss'], label='train')\n",
        "plt.title('Model Loss')\n",
        "plt.ylabel('Loss')\n",
        "plt.xlabel('Epoch') \n",
        "plt.legend()\n",
        "plt.show()"
      ],
      "execution_count": null,
      "outputs": [
        {
          "output_type": "display_data",
          "data": {
            "image/png": "[encoded data removed]",
            "text/plain": [
              "<Figure size 432x288 with 1 Axes>"
            ]
          },
          "metadata": {
            "tags": [],
            "needs_background": "light"
          }
        },
        {
          "output_type": "display_data",
          "data": {
            "image/png": "[encoded data removed]",
            "text/plain": [
              "<Figure size 432x288 with 1 Axes>"
            ]
          },
          "metadata": {
            "tags": [],
            "needs_background": "light"
          }
        }
      ]
    },
    {
      "cell_type": "code",
      "metadata": {
        "colab": {
          "base_uri": "https://localhost:8080/"
        },
        "id": "TnAwz7ATR4ga",
        "outputId": "7a2cbc53-1b21-4737-eb6f-c232f479d68f"
      },
      "source": [
        "##Section 5 - Putting your model to the test!\n",
        "##Evaluation Cell\n",
        "test_loss, test_acc = model.evaluate(test_images, test_labels)\n",
        "\n",
        "print(\"Model has been evaluated using test images!\")\n",
        "print(\"The model  has an accuracy of\" ,(test_acc*100),\"%!\")"
      ],
      "execution_count": null,
      "outputs": [
        {
          "output_type": "stream",
          "text": [
            "313/313 [==============================] - 1s 1ms/step - loss: 0.0785 - accuracy: 0.9771\n",
            "Model has been evaluated using test images!\n",
            "The model  has an accuracy of 97.71000146865845 %!\n"
          ],
          "name": "stdout"
        }
      ]
    },
    {
      "cell_type": "code",
      "metadata": {
        "colab": {
          "base_uri": "https://localhost:8080/",
          "height": 491
        },
        "id": "9q7M64qwRGC5",
        "outputId": "1567ff15-25be-4d8f-f14e-1eadec871d01"
      },
      "source": [
        "#@title Default title text { run: \"auto\" }\n",
        "##Prediction Cell\n",
        "\n",
        "Display =  5000#@param {type:\"integer\"}\n",
        "\n",
        "predictions = model.predict(test_images) #@param [\"model.predict(train_images)\", \"model.predict(test_labels)\", \"model.predict(test_images)\", \"model.predict(accuracy)\"] {type:\"raw\"}\n",
        "for p in predictions[Display]: \n",
        "  print(p*100,\"%\")\n",
        "print(\"Model predictions have been created!\")\n",
        "\n",
        "print(class_names[np.argmax(predictions[Display])])\n",
        "plt.imshow(test_images[Display])"
      ],
      "execution_count": null,
      "outputs": [
        {
          "output_type": "stream",
          "text": [
            "5.105199818444817e-07 %\n",
            "5.20342439358501e-05 %\n",
            "0.00042279607441741973 %\n",
            "99.99521970748901 %\n",
            "9.059497756425117e-05 %\n",
            "0.003543135244399309 %\n",
            "3.188280195409732e-08 %\n",
            "9.751039442562615e-06 %\n",
            "0.0006348536771838553 %\n",
            "2.2710256075697544e-05 %\n",
            "Model predictions have been created!\n",
            "3\n"
          ],
          "name": "stdout"
        },
        {
          "output_type": "execute_result",
          "data": {
            "text/plain": [
              "<matplotlib.image.AxesImage at 0x7f78f3d92790>"
            ]
          },
          "metadata": {
            "tags": []
          },
          "execution_count": 30
        },
        {
          "output_type": "display_data",
          "data": {
            "image/png": "[encoded data removed]",
            "text/plain": [
              "<Figure size 432x288 with 1 Axes>"
            ]
          },
          "metadata": {
            "tags": [],
            "needs_background": "light"
          }
        }
      ]
    }
  ]
}