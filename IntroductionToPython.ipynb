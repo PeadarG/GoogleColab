{
  "nbformat": 4,
  "nbformat_minor": 0,
  "metadata": {
    "colab": {
      "name": "IntroductionToPython.ipynb",
      "provenance": [],
      "toc_visible": true
    },
    "kernelspec": {
      "name": "python3",
      "display_name": "Python 3"
    },
    "language_info": {
      "name": "python"
    }
  },
  "cells": [
    {
      "cell_type": "markdown",
      "metadata": {
        "id": "AUJ5Sgou77HQ"
      },
      "source": [
        "# **Welcome To Google Colab!**\n",
        "\n",
        "Google Colab is a free online coding platform for coding in the python language.\n",
        "\n",
        "If any of you have coded in python before this may seam familiar to Jupyter Notebook.\n",
        "\n",
        "First, lets learn about Colab. Colab has three main features:\n",
        "\n",
        "1.   **Text Cells**\n",
        "2.   **Code Cells**\n",
        "3.   **Live Changes**\n",
        "\n",
        "What you are reading right now is a **Text Cells**. Text Cells allow for desciptions, explanations and introdcutions to code blocks and the overall Colab program.\n",
        "\n",
        "**Code Cells** are are where we write our code and run it. One of the advantages of using Colab, and notebooks for python development, is that you can break up the program development into seperate code cells and run them individulaly. This lets us rapidly prototype and test solutions.\n",
        "\n",
        "Lastly, **Live Changes** allows you to work togther with your friends on a codeing project and everyone sees the one file. No need for git commits pulling branching which is very usefully for rapid prototyping.\n",
        "\n",
        "\n"
      ]
    },
    {
      "cell_type": "markdown",
      "metadata": {
        "id": "WsjmO2LllnlQ"
      },
      "source": [
        "If you would like to follow along and use your own notebook, please use these instructions.\n",
        "1. Go to _file_ in the upper left corner\n",
        "2. Click _Save copy in drive_ \n",
        "3. Follow along and use your own notebook!"
      ]
    },
    {
      "cell_type": "code",
      "metadata": {
        "id": "30nAHO_TlVju"
      },
      "source": [
        "# This is a Code Cell.\n",
        "# Press shift + enter to execute a cell or click on the play button in the top left.\n",
        "# Nothing will print from this cell since these lines are all comments.\n",
        "\n",
        "# The hashtag '#' seen at the start of each sentances tells the computer \n",
        "# that it is a comment and is just writing in the code cell and can be\n",
        "# ignored, as it is just for the humans to read!\n"
      ],
      "execution_count": null,
      "outputs": []
    },
    {
      "cell_type": "markdown",
      "metadata": {
        "id": "dG-RNUrU7kM7"
      },
      "source": [
        "Lets begin learning Python!"
      ]
    },
    {
      "cell_type": "markdown",
      "metadata": {
        "id": "AdxK0FVqIlmK"
      },
      "source": [
        "# 0.0 Intro to Python\n",
        "\n",
        "A Python program is a series of expressions and statements. Don't worry about the specifics, but very roughly:\n",
        "\n",
        "* An **expression** is like a **noun**. It **is** something.\n",
        "* A **statement** is like a **verb**. It **does** something.\n",
        "\n",
        "The simplest Python program is a single expression, and the simplest expression is a number.\n",
        "\n",
        "Open up a code cell, type a number, and execute the cell."
      ]
    },
    {
      "cell_type": "code",
      "metadata": {
        "id": "XFz48qheo0JJ"
      },
      "source": [
        "# Expression\n",
        "a = 49"
      ],
      "execution_count": null,
      "outputs": []
    },
    {
      "cell_type": "code",
      "metadata": {
        "id": "0yMwk0ahnPi-",
        "colab": {
          "base_uri": "https://localhost:8080/"
        },
        "outputId": "ab64d34e-1435-4462-bbf7-4e3bf824d61d"
      },
      "source": [
        "# Statement\n",
        "print(49)"
      ],
      "execution_count": null,
      "outputs": [
        {
          "output_type": "stream",
          "text": [
            "49\n"
          ],
          "name": "stdout"
        }
      ]
    },
    {
      "cell_type": "markdown",
      "metadata": {
        "id": "P7trMuA5JxQy"
      },
      "source": [
        ""
      ]
    },
    {
      "cell_type": "markdown",
      "metadata": {
        "id": "lwe_hsV9ul8L"
      },
      "source": [
        "## 0.1: Hello World\n",
        "\n",
        "One of the most basic programs that is always written first is called **Hello World**\n",
        "\n",
        "1. Click on this cell. This cell will highlight.\n",
        "1. Click the \"+ CODE\" button in the header. This will create a cell in the next line.\n",
        "    - optional: keyboard shortcut: **`CMD+M B`**\n",
        "\n",
        "1. In this cell, enter:\n",
        "\n",
        "> ```python\n",
        "> # Your name\n",
        "> print( \"Hello world!\" )\n",
        "> ```\n",
        "\n",
        "4. Click on the \"play\" button to the left of the cell. The first time you run a cell in a colab notebook it might take as long as 10-20 seconds to finish. After that, it's a lot faster.\n",
        "    * optional: keyboard shortcut: `SHIFT+ENTER`\n",
        "    \n",
        "-----------\n"
      ]
    },
    {
      "cell_type": "code",
      "metadata": {
        "id": "9gjzPjQWF0mm",
        "colab": {
          "base_uri": "https://localhost:8080/",
          "height": 35
        },
        "outputId": "8b340e70-69fb-4bfe-b0bb-acbc99918520"
      },
      "source": [
        "# Change Hello World to your name!\n",
        "print('Hello World!')"
      ],
      "execution_count": null,
      "outputs": [
        {
          "output_type": "stream",
          "text": [
            "Hello World!\n"
          ],
          "name": "stdout"
        }
      ]
    },
    {
      "cell_type": "markdown",
      "metadata": {
        "id": "eyyN4TP_8e8G"
      },
      "source": [
        "There is also another way to print Hello World, but with restrictions!"
      ]
    },
    {
      "cell_type": "markdown",
      "metadata": {
        "id": "_tExYlfHx_L1"
      },
      "source": [
        "## 0.2: Hello World, Simplified\n",
        "\n",
        "The last statement to evaluate in the cell is automatically printed. So, the `print` statement is redundant.\n",
        "\n",
        "1. Click on this cell. This cell will highlight.\n",
        "1. Click the \"+ CODE\" button in the header. This will create a cell in the next line.\n",
        "1. In this cell, enter:\n",
        "\n",
        "> ```python\n",
        "> # YOUR NAME HERE\n",
        "> \"Hello world!\"\n",
        "> ```\n",
        "\n",
        "4. Click on the \"play\" button to the left of the cell.\n",
        "\n",
        "----------"
      ]
    },
    {
      "cell_type": "code",
      "metadata": {
        "id": "RP5M3YvIMzRP",
        "colab": {
          "base_uri": "https://localhost:8080/",
          "height": 35
        },
        "outputId": "0bb1e53c-e26a-4bf6-f241-b80c9de7e4d0"
      },
      "source": [
        "#YOUR NAME HERE \n",
        "\"Hello world!\""
      ],
      "execution_count": null,
      "outputs": [
        {
          "output_type": "execute_result",
          "data": {
            "text/plain": [
              "'Hello world!'"
            ]
          },
          "metadata": {
            "tags": []
          },
          "execution_count": 4
        }
      ]
    },
    {
      "cell_type": "markdown",
      "metadata": {
        "id": "esHycXYvppGK"
      },
      "source": [
        "### What's the difference?\n",
        "\n",
        "The main takeaway being: `print()` works in almost every kind of python environment - notebook, command line, script, web server, or library - because they all have access to `stdout`.\n",
        "\n",
        "Ending a cell in a Jupyter notebook with an expression `x` will print the value of x as a string {`repr(x)`} directly below the cell. This is special behavior particular to Jupyter notebooks. If you try this _outside_ of a Colab/Jupyter notebooks, you'll have a bad time.\n",
        "\n"
      ]
    },
    {
      "cell_type": "markdown",
      "metadata": {
        "id": "bOIFe-YezZVG"
      },
      "source": [
        "## 0.3: More than text\n",
        "\n",
        "When a cell is executed, a text value of the result of the last line is always printed.\n",
        "\n",
        "1. Create a cell and enter this:\n",
        "\n",
        "> ```python\n",
        "> # YOUR NUMBER HERE\n",
        "> a = CHOSEN NUMBER\n",
        "> a\n",
        "> ```\n",
        "\n",
        "2. Run it.\n",
        "\n",
        "_Technially_: The string result of `repr(LAST_EXPRESSION)` is printed  below a cell after it's executed.\n",
        "\n",
        "--------\n",
        "\n"
      ]
    },
    {
      "cell_type": "code",
      "metadata": {
        "id": "0XtDGPqXM7ZK",
        "colab": {
          "base_uri": "https://localhost:8080/",
          "height": 35
        },
        "outputId": "1e1724e0-6fdd-406f-8441-f97e9ec1a0fb"
      },
      "source": [
        "#YOUR NUMBER HERE \n",
        "a = 42\n",
        "a"
      ],
      "execution_count": null,
      "outputs": [
        {
          "output_type": "stream",
          "text": [
            "42\n"
          ],
          "name": "stdout"
        }
      ]
    },
    {
      "cell_type": "markdown",
      "metadata": {
        "id": "tjx-qpZIqkbV"
      },
      "source": [
        "## 0.4 Variable Expressions\n",
        "\n",
        "Python provides a way to name values called **variables**. You're probably used to variables from algebra, where they're used to store numbers.\n",
        "\n",
        "$$ x = 5 $$\n",
        "\n",
        "In Python, variables are declared with an **assignment statement**, which simultaneously creates the variable and assigns it a value. This is accomplished with the **assignment operator** `=`, like this:\n",
        "\n",
        "```python\n",
        "VARIABLE = VALUE_EXPRESSION\n",
        "a = 42\n",
        "```\n",
        "\n",
        "For example, here we create a value `a` and assign it the value `42`."
      ]
    },
    {
      "cell_type": "markdown",
      "metadata": {
        "id": "q1KrEehynMej"
      },
      "source": [
        "# 1.0 More Expressions and Statements\n"
      ]
    },
    {
      "cell_type": "markdown",
      "metadata": {
        "id": "kwXBXpCpo76h"
      },
      "source": [
        "\n",
        "##  1.10 Literal Expressions"
      ]
    },
    {
      "cell_type": "markdown",
      "metadata": {
        "id": "bLeQUYjqo_CN"
      },
      "source": [
        "An expression which expresses a single value is called a **literal**. A literal has a **type**. The above literal is an **integer**.\n",
        "\n",
        "Python has several numeric types.\n",
        "\n",
        "Here's a decimal number: (Known as a floating point number)\n"
      ]
    },
    {
      "cell_type": "code",
      "metadata": {
        "id": "UWdWsE8Do3Sr",
        "colab": {
          "base_uri": "https://localhost:8080/",
          "height": 35
        },
        "outputId": "6aa96c3c-8b80-4e57-ca57-9632088e8945"
      },
      "source": [
        "# Decimal (Floating Point) Number\n",
        "4.52324"
      ],
      "execution_count": null,
      "outputs": [
        {
          "output_type": "execute_result",
          "data": {
            "text/plain": [
              "4.52324"
            ]
          },
          "metadata": {
            "tags": []
          },
          "execution_count": 14
        }
      ]
    },
    {
      "cell_type": "markdown",
      "metadata": {
        "id": "c6lAqEdipHn-"
      },
      "source": [
        "### 1.11 Complex Numbers\n",
        "\n",
        "Here's a Complex Number which you may be familair with from math and physics!"
      ]
    },
    {
      "cell_type": "code",
      "metadata": {
        "id": "sfLlciclpEL4",
        "colab": {
          "base_uri": "https://localhost:8080/",
          "height": 35
        },
        "outputId": "4c2af844-0487-446c-84a1-2d76dec04222"
      },
      "source": [
        "# Complex Number\n",
        "complex(1, 5)"
      ],
      "execution_count": null,
      "outputs": [
        {
          "output_type": "execute_result",
          "data": {
            "text/plain": [
              "(1+5j)"
            ]
          },
          "metadata": {
            "tags": []
          },
          "execution_count": 15
        }
      ]
    },
    {
      "cell_type": "markdown",
      "metadata": {
        "id": "pEkW1GR3pOdv"
      },
      "source": [
        "Since there are so many numeric types it can be useful to check the type of the literal/number.\n",
        "\n",
        "You can check the type of an expression with the `type` function. See below:\n",
        "\n",
        "```python\n",
        "type(EXPRESSION)\n",
        "a = 42\n",
        "type(a)\n",
        "b = 4.52324\n",
        "type(b)\n",
        "c = complex(1, 5)\n",
        "type(c)\n",
        "```\n",
        "\n",
        "Try it out."
      ]
    },
    {
      "cell_type": "code",
      "metadata": {
        "id": "TNg3xLVZpQZo"
      },
      "source": [
        "a = 42\n",
        "type(a)"
      ],
      "execution_count": null,
      "outputs": []
    },
    {
      "cell_type": "code",
      "metadata": {
        "id": "hOQVuxjGpSLO"
      },
      "source": [
        "a = 4.52324\n",
        "type(a)"
      ],
      "execution_count": null,
      "outputs": []
    },
    {
      "cell_type": "code",
      "metadata": {
        "id": "XWFdBTAQpUHl"
      },
      "source": [
        "type(complex(1, 5))"
      ],
      "execution_count": null,
      "outputs": []
    },
    {
      "cell_type": "markdown",
      "metadata": {
        "id": "Zb8IYOjBqLLz"
      },
      "source": [
        "## 1.2 Arithmetic Expressions\n",
        "\n",
        "Python provides several simple arithmetic expressions for use with numeric literals.\n",
        "\n",
        "* `+` addition\n",
        "* `-` subtraction\n",
        "* `*` multiplication\n",
        "* `/` division\n",
        "* `**` exponentiation\n",
        "\n",
        "### 1.21 Other types of arithmetic expressions:\n",
        "\n",
        "* `//` floor division\n",
        "* `%` Modulo\n"
      ]
    },
    {
      "cell_type": "code",
      "metadata": {
        "id": "Z1krVv0pqICJ"
      },
      "source": [
        "# Examples \n",
        "\n",
        "# Addition\n",
        "a = 10\n",
        "print(a + 2)"
      ],
      "execution_count": null,
      "outputs": []
    },
    {
      "cell_type": "code",
      "metadata": {
        "id": "cfHsOkipkabq"
      },
      "source": [
        "# Subtraction\n",
        "print(a - 2)"
      ],
      "execution_count": null,
      "outputs": []
    },
    {
      "cell_type": "code",
      "metadata": {
        "id": "_njiEMPTkkAR"
      },
      "source": [
        "# Multiplication\n",
        "print(a * 2)"
      ],
      "execution_count": null,
      "outputs": []
    },
    {
      "cell_type": "code",
      "metadata": {
        "id": "AUrr9XkUkm4Z"
      },
      "source": [
        "# Division\n",
        "print(a/2)"
      ],
      "execution_count": null,
      "outputs": []
    },
    {
      "cell_type": "code",
      "metadata": {
        "id": "5GNPXbJjko66"
      },
      "source": [
        "# Exponentiation\n",
        "a = 5\n",
        "b = 2\n",
        "print(a ** b)"
      ],
      "execution_count": null,
      "outputs": []
    },
    {
      "cell_type": "markdown",
      "metadata": {
        "id": "q-7Z5-qrlBzu"
      },
      "source": [
        "#### What is Floor division?\n",
        "\n",
        "Floor dvision counts how many times a number goes into another number. This is a very useful operator for logic!\n"
      ]
    },
    {
      "cell_type": "code",
      "metadata": {
        "id": "Qq26gfHOlLkW"
      },
      "source": [
        "#Floor Division\n",
        "print(17 // 8)"
      ],
      "execution_count": null,
      "outputs": []
    },
    {
      "cell_type": "markdown",
      "metadata": {
        "id": "yIkdsGNjVoHW"
      },
      "source": [
        "#### What is Modulo?\n",
        "\n",
        "Modulo counts what is the remainder after division. Again very useful for logic!\n"
      ]
    },
    {
      "cell_type": "code",
      "metadata": {
        "id": "syjyP9H1lWZk"
      },
      "source": [
        "# Modulo\n",
        "print(17 % 9)"
      ],
      "execution_count": null,
      "outputs": []
    },
    {
      "cell_type": "markdown",
      "metadata": {
        "id": "YVmYwQIUrQW0"
      },
      "source": [
        "### 1.22 BEMDAS execution\n",
        "\n",
        "Just like in maths where there is BEMDAS, there the same applies here in Python.\n",
        "\n",
        "If you try the following code, what do you think will happen?\n",
        "\n",
        "```python\n",
        "a = 7-2*2+3\n",
        "print( a )\n",
        "```\n",
        "\n",
        "Try it out in your own notebook!\n"
      ]
    },
    {
      "cell_type": "markdown",
      "metadata": {
        "id": "_eGmxrlCTs8K"
      },
      "source": [
        "Introducing the expresions one at a time, using comments, lets us see what happens:"
      ]
    },
    {
      "cell_type": "code",
      "metadata": {
        "id": "ET3mOLfMSsiA"
      },
      "source": [
        "a = 7 #-2*2+3\n",
        "\n",
        "print(a)"
      ],
      "execution_count": null,
      "outputs": []
    },
    {
      "cell_type": "code",
      "metadata": {
        "id": "go4d2IANTb38"
      },
      "source": [
        "a = 7-2 #*2+3\n",
        "\n",
        "print(a)"
      ],
      "execution_count": null,
      "outputs": []
    },
    {
      "cell_type": "code",
      "metadata": {
        "id": "GxPSCapVTcHZ"
      },
      "source": [
        "a = 7-2*2 #+3\n",
        "\n",
        "print(a)"
      ],
      "execution_count": null,
      "outputs": []
    },
    {
      "cell_type": "code",
      "metadata": {
        "id": "sWB91IjpTcQ-"
      },
      "source": [
        "a = 7-2*2+3\n",
        "\n",
        "print(a)"
      ],
      "execution_count": null,
      "outputs": []
    },
    {
      "cell_type": "markdown",
      "metadata": {
        "id": "JdXMCt4Orst_"
      },
      "source": [
        "# 2.0 Logic\n",
        "\n",
        "Now that we know how to make expressions and statements and can manipulate numbers, we are almost ready to start programming! (sort of)\n",
        "\n",
        "We can't write a program without the ability to make a _choice_, and the `if` statement provides this ability. The `if` statement provides a way to specify that a statement should only be executed _if a given condition expression evaluates to True_.\n",
        "\n",
        "The general syntax of an `if` statement in Python is:\n",
        "\n",
        "```python\n",
        "if condition:\n",
        "    if_block_statement\n",
        "```\n",
        "\n",
        "Notice how the `if` statement ends in a colon `:`. This is the way that Python declares the start of an indentation block."
      ]
    },
    {
      "cell_type": "code",
      "metadata": {
        "id": "Yu_gBL12rymO"
      },
      "source": [
        "# Example 1\n",
        "if True:\n",
        "  print(\"True!\")"
      ],
      "execution_count": null,
      "outputs": []
    },
    {
      "cell_type": "code",
      "metadata": {
        "id": "30Hbr9iHr17S"
      },
      "source": [
        "# Example 2\n",
        "a = 3\n",
        "if a != 5:\n",
        "  print(a)"
      ],
      "execution_count": null,
      "outputs": []
    },
    {
      "cell_type": "code",
      "metadata": {
        "id": "tHrPweTQr7eH"
      },
      "source": [
        "# Example 3\n",
        "a = 3\n",
        "if a != 3:\n",
        "  print(a)\n",
        "else:\n",
        "  print(\"a = 3\")"
      ],
      "execution_count": null,
      "outputs": []
    },
    {
      "cell_type": "markdown",
      "metadata": {
        "id": "ZIXhUrABjIZi"
      },
      "source": [
        "## 2.1  Logic with Functions\n",
        "\n",
        "We will explore this more later, but for now, I want to quickly introduce you to functions in python.  The syntax for a function is fairly simple, and the more you see it, the easier it will become.  \n",
        "\n",
        "1. Every function starts with a declaritive statement where you can pass the function arguments.  Once again, make sure that the function name represents what the function does\n",
        "\n",
        "2. Every function needs a return statement that can return nothing, or something useful.\n",
        "\n",
        "For example, I am going to build a function below that adds two numbers together"
      ]
    },
    {
      "cell_type": "code",
      "metadata": {
        "id": "ubrsStU-r9Zx"
      },
      "source": [
        "# Declare and name the function\n",
        "def add(a,b):\n",
        "  \n",
        "  # Add the two numbers and save as a new variable\n",
        "  c = a + b\n",
        "  \n",
        "  # Return the value c\n",
        "  return c\n",
        "\n",
        "# Call the function with a = 10, and b = 15\n",
        "add(10,15)"
      ],
      "execution_count": null,
      "outputs": []
    },
    {
      "cell_type": "markdown",
      "metadata": {
        "id": "aOpRd9hNsHoq"
      },
      "source": [
        "### Conditionals\n",
        "\n",
        "Let's tackle this one part at a time. What does it mean to be a condition? Really, all an `if` is checking is whether the conditional evaluates to `True` or `False`. If the condition is true, then the body of the `if` statement is executed. If the condition is false, the `if` block is skipped. Intuitively, true and false are concepts that make perfect sense to us. But we should take the time to clearly define them in a programming context here.\n",
        "\n",
        "`True` and `False` are what we call booleans in logic (`bool` for short), and what Python calls them. They are a special variable type with many potential uses; mainly they are used as a way to put a label on the truth of a statement. There are two specifically reserved words for bools in Python, `True` and `False`. Note that these begin with capital letters.\n",
        "\n",
        "```python\n",
        "In [1]: type(True)\n",
        "Out[1]: bool\n",
        "\n",
        "In [2]: type(False)\n",
        "Out[2]: bool\n",
        "```"
      ]
    },
    {
      "cell_type": "code",
      "metadata": {
        "id": "RvoImwgGL9fE"
      },
      "source": [
        "t = True\n",
        "f = False"
      ],
      "execution_count": null,
      "outputs": []
    },
    {
      "cell_type": "markdown",
      "metadata": {
        "id": "DdxKxQAvtzb6"
      },
      "source": [
        "With boolean true and false we can also use AND, OR, NOT and XOR for more complicated choices for programing "
      ]
    },
    {
      "cell_type": "code",
      "metadata": {
        "colab": {
          "base_uri": "https://localhost:8080/",
          "height": 86
        },
        "id": "6zYm7WzCL9fK",
        "outputId": "f3cebe76-5af4-473a-8127-88a1fd60560f"
      },
      "source": [
        "print(t and f) # Logical AND;\n",
        "print(t or f)  # Logical OR;\n",
        "print(not t)   # Logical NOT;\n",
        "print(t != f)  # Logical XOR;"
      ],
      "execution_count": null,
      "outputs": [
        {
          "output_type": "stream",
          "text": [
            "False\n",
            "True\n",
            "False\n",
            "True\n"
          ],
          "name": "stdout"
        }
      ]
    },
    {
      "cell_type": "code",
      "metadata": {
        "id": "1kc7ChWlsIHL"
      },
      "source": [
        "a = 3\n",
        "print(a != 3)"
      ],
      "execution_count": null,
      "outputs": []
    },
    {
      "cell_type": "markdown",
      "metadata": {
        "id": "yKG-2aN-uWNq"
      },
      "source": [
        "Lets put our conditionals and funcations togther and make some semi complex programs"
      ]
    },
    {
      "cell_type": "code",
      "metadata": {
        "id": "AR-yrYNCLAH-"
      },
      "source": [
        "def add_even(a,b):\n",
        "  \n",
        "  if a % 2 == 0:\n",
        "    \n",
        "    return a + b\n",
        "  else:\n",
        "    print('a is not even')\n",
        "    return None\n",
        "  \n",
        "add_even(12,3)"
      ],
      "execution_count": null,
      "outputs": []
    },
    {
      "cell_type": "code",
      "metadata": {
        "id": "kiMDUr58L9hN"
      },
      "source": [
        "def sign(x):\n",
        "    if x > 0:\n",
        "        return 'positive'\n",
        "    elif x < 0:\n",
        "        return 'negative'\n",
        "    else:\n",
        "        return 'zero'\n",
        "\n",
        "x = -1\n",
        "print(sign(x))"
      ],
      "execution_count": null,
      "outputs": []
    },
    {
      "cell_type": "markdown",
      "metadata": {
        "id": "fvcGilxOv3f9"
      },
      "source": [
        "#Data Types, Storeing more than Singles Variables\n",
        "\n",
        "So far we have just delt with single numbers or words per variable such as: \n",
        "\n",
        "```python\n",
        "In [1]: x = 42\n",
        "In [2]: y = \"apple\"\n",
        "```  \n",
        "But what if we have lots of numbers(or words), 50, 100 or even 1000. It becomes very difficult to remember exactly what we declared that number as.\n",
        "\n",
        "So to save ourselves from this headache we can use lists!\n",
        "\n",
        "Lists let us store lots of numbers and/or lots of words in one place!\n",
        "\n",
        "```python\n",
        "In [1]: Grocery_List_and_Favourite_Number = [\"apple\", \"banana\", \"cherry\",\"berry\", \"potatoes\", 42]\n",
        "In [2]: print(Grocery_List_and_Favourite_Number)\n",
        "\n",
        "Out [1]: ['apple', 'banana', 'cherry','berry', 'potatoes', 42]\n",
        "``` \n",
        "Great so now we can print all out all the items we want with no issue... but what if we only what to print one item from the grocery list.\n",
        "\n",
        "We need an easy way to access them! This is called indexing.\n",
        "\n",
        "The index of a list always starts at 0 in python. Think about how the ground floor of a building would be floor 0 if it was given a number, and we are headed for the 4th floor. \n",
        "\n",
        "To get to the 4th floor we must enter the building at floor 0, then we must go up the stairs to floor 1 floor 2 floor 3 and finally floor 4. So in total we have traversed 5 floors. With this same idea lets apply it to Grocery List.\n",
        "\n",
        "```python\n",
        "In [1]: print(Grocery_List_and_Favourite_Number[4])\n",
        "\n",
        "Out [1]: \"potatoes\"\n",
        "``` \n",
        "\n",
        "\n",
        "\n",
        "\n",
        "\n",
        "\n",
        "\n"
      ]
    },
    {
      "cell_type": "code",
      "metadata": {
        "id": "pMBYdN6Rzghr"
      },
      "source": [
        "Grocery_List_and_Favourite_Number = [\"apple\", \"banana\", \"cherry\",\"berry\", \"potatoes\", 42]\n",
        "print(Grocery_List_and_Favourite_Number)\n",
        "\n",
        "print(Grocery_List_and_Favourite_Number[4])"
      ],
      "execution_count": null,
      "outputs": []
    },
    {
      "cell_type": "markdown",
      "metadata": {
        "id": "uUbaHImZuwtj"
      },
      "source": [
        "#Looping\n",
        "Now we are getting to the real power of computing, the **for loop** and the **while loop**. Now aremed with lists, if and else statements and functions we can do some cool stuff.\n",
        "\n",
        "Lets look at the example below:"
      ]
    },
    {
      "cell_type": "code",
      "metadata": {
        "id": "IXLDEvAWvlbn"
      },
      "source": [
        "Grocery_List_and_Favourite_Number = [\"apple\", \"banana\", \"cherry\",\"berry\", \"potatoes\", 42]\n",
        "for grocery in Grocery_List_and_Favourite_Number:\n",
        "    print(grocery)"
      ],
      "execution_count": null,
      "outputs": []
    },
    {
      "cell_type": "markdown",
      "metadata": {
        "id": "pJt3wOGe7Vzh"
      },
      "source": [
        "What happened? Yes, it is similar to the print we did earlier but has a key difference we printed one item on the grocery list at a time!\n",
        "\n",
        "Using this power of going through the list one item at a time we can find if we forgot to add pasta to a grocery list."
      ]
    },
    {
      "cell_type": "code",
      "metadata": {
        "colab": {
          "base_uri": "https://localhost:8080/"
        },
        "id": "RzwV5uoQ68Ls",
        "outputId": "fb83d91b-7fb5-4c09-9611-397626e0c7ab"
      },
      "source": [
        "def pasta_check(grocery_list):\n",
        "  for grocery in grocery_list:\n",
        "    if grocery == \"pasta\":\n",
        "      return True;\n",
        "  return False;\n",
        "\n",
        "Grocery_List = [\"apple\", \"banana\", \"cherry\",\"berry\", \"potatoes\"]\n",
        "if pasta_check(Grocery_List) == True :\n",
        "  print(\"Pasta is on the list\")\n",
        "else:\n",
        "  print(\"Pasta not on list A\")\n",
        "\n",
        "  ###Try changing the Grocery lit so that we are told pasta is on the list\n"
      ],
      "execution_count": null,
      "outputs": [
        {
          "output_type": "stream",
          "text": [
            "Pasta not on list A\n",
            "Pasta is on the list B\n"
          ],
          "name": "stdout"
        }
      ]
    },
    {
      "cell_type": "markdown",
      "metadata": {
        "id": "C2AODJZc-Mit"
      },
      "source": [
        "We have covered most of the principals of looping in python now but will spend just some more time on the for loops sometimes forgotten cousin the while loop.\n",
        "\n",
        "The while loop is very useful for keeping a program alive until we, the user, are done with it!\n",
        "\n",
        "For instance if I wanted to add  to a number until I told the the program to stop, it would look something like this:\n",
        "\n"
      ]
    },
    {
      "cell_type": "code",
      "metadata": {
        "id": "AgPMXhKiA1Me"
      },
      "source": [
        "x = 0\n",
        "number_as_str = input(\"Please enter a number to add to x : \") ##All inputs from the user are strings\n",
        "number_to_add = int(number_as_str) ###To use the number to add on to x it must be converted from a string using the int()\n",
        "while (number_to_add != 0):\n",
        "  x = x + number_to_add\n",
        "  number_as_str = input(\"To end addition enter 0, otherwise please enter a number to add to x : \")\n",
        "  number_to_add = int(number_as_str)\n",
        "\n",
        "print(x) ##Once user is finished print x\n"
      ],
      "execution_count": null,
      "outputs": []
    },
    {
      "cell_type": "code",
      "metadata": {
        "id": "USpzy13MDKAW"
      },
      "source": [
        ""
      ],
      "execution_count": null,
      "outputs": []
    }
  ]
}